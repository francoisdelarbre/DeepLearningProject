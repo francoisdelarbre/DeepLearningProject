{
 "cells": [
  {
   "cell_type": "code",
   "execution_count": 1,
   "metadata": {},
   "outputs": [],
   "source": [
    "import numpy as np\n",
    "from matplotlib import cm, pyplot as plt\n",
    "from utils import from_run_kength_enc\n",
    "import itertools\n",
    "from pathlib import Path\n",
    "import csv\n",
    "from skimage import io\n",
    "from random import shuffle\n"
   ]
  },
  {
   "cell_type": "code",
   "execution_count": 5,
   "metadata": {},
   "outputs": [],
   "source": [
    "data_dir = \"data/stage2_test_final\"\n",
    "submission_dir = \"h5_files/submissions\"\n",
    "submission_filename = None\n",
    "save_submitted_masks = True\n",
    "colors = cm.get_cmap().colors\n",
    "shuffle(colors)"
   ]
  },
  {
   "cell_type": "code",
   "execution_count": 6,
   "metadata": {},
   "outputs": [],
   "source": [
    "def get_color_gen():\n",
    "    return (colors[n%len(colors)] for n in itertools.count())"
   ]
  },
  {
   "cell_type": "code",
   "execution_count": 7,
   "metadata": {},
   "outputs": [
    {
     "name": "stdout",
     "output_type": "stream",
     "text": [
      "reading submission : h5_files/submissions/2019.04.28-14.17.csv\n"
     ]
    }
   ],
   "source": [
    "submission_dir = Path(submission_dir)\n",
    "\n",
    "submission_path = None \n",
    "\n",
    "if submission_filename is None:\n",
    "    submission_paths = sorted([submission_path for submission_path in submission_dir.iterdir() if submission_path.suffix == \".csv\"])\n",
    "    submission_path = submission_paths[-1]\n",
    "    submission_filename = submission_path.name\n",
    "    \n",
    "    print(\"reading submission : {}\".format(submission_path))\n",
    "\n",
    "else:\n",
    "    submission_path = submission_dir/submission_filename\n",
    "\n",
    "submission_name = submission_filename[:-len(submission_path.suffix)]\n",
    "\n",
    "data_dir = Path(data_dir)"
   ]
  },
  {
   "cell_type": "code",
   "execution_count": 8,
   "metadata": {},
   "outputs": [
    {
     "name": "stdout",
     "output_type": "stream",
     "text": [
      "0 nuclei treated\n",
      "1000 nuclei treated\n",
      "2000 nuclei treated\n",
      "3000 nuclei treated\n",
      "4000 nuclei treated\n",
      "5000 nuclei treated\n",
      "6000 nuclei treated\n",
      "7000 nuclei treated\n",
      "8000 nuclei treated\n",
      "9000 nuclei treated\n",
      "10000 nuclei treated\n",
      "11000 nuclei treated\n",
      "12000 nuclei treated\n",
      "13000 nuclei treated\n",
      "14000 nuclei treated\n",
      "15000 nuclei treated\n",
      "16000 nuclei treated\n",
      "17000 nuclei treated\n",
      "18000 nuclei treated\n",
      "19000 nuclei treated\n",
      "20000 nuclei treated\n",
      "21000 nuclei treated\n",
      "22000 nuclei treated\n",
      "23000 nuclei treated\n",
      "24000 nuclei treated\n",
      "25000 nuclei treated\n",
      "26000 nuclei treated\n",
      "27000 nuclei treated\n",
      "28000 nuclei treated\n",
      "29000 nuclei treated\n",
      "30000 nuclei treated\n",
      "31000 nuclei treated\n",
      "32000 nuclei treated\n",
      "33000 nuclei treated\n",
      "34000 nuclei treated\n",
      "35000 nuclei treated\n",
      "36000 nuclei treated\n",
      "37000 nuclei treated\n",
      "38000 nuclei treated\n",
      "39000 nuclei treated\n",
      "40000 nuclei treated\n",
      "41000 nuclei treated\n",
      "42000 nuclei treated\n",
      "43000 nuclei treated\n",
      "44000 nuclei treated\n"
     ]
    }
   ],
   "source": [
    "with open(str(submission_path)) as submission_file:\n",
    "    csv_reader = csv.reader(submission_file)\n",
    "    current_image_id = None\n",
    "    current_mask = None\n",
    "    header = csv_reader.__next__()\n",
    "    number_of_no_nuclei = 0\n",
    "    number_of_images = 0\n",
    "    for i, row in enumerate(csv_reader):\n",
    "        if not i % 1000:\n",
    "            print(\"{} nuclei treated\".format(i))\n",
    "        image_id = row[0]\n",
    "        run_length_str = row[1]\n",
    "        \n",
    "        run_length = [int(elem) for elem in run_length_str.strip().split(\" \") if elem.strip()]\n",
    "        if not run_length:\n",
    "            if current_image_id is not None and current_image_id != image_id:\n",
    "                print(\"no segmentation for image {}\".format(image_id))\n",
    "                number_of_no_nuclei += 1\n",
    "            else:\n",
    "                print(\"nuclei with no pixel for image {}\".format(image_id))\n",
    "        # print(\"coucou : {}\".format(image_id))\n",
    "        if current_image_id is not None and current_image_id != image_id:\n",
    "            if save_submitted_masks:\n",
    "                submission_mask_path = data_dir / current_image_id / \"submissions\" / (submission_name + \".png\")\n",
    "                # print(submission_mask_path)\n",
    "                submission_mask_path.parent.mkdir(parents=True, exist_ok=True)\n",
    "                # print(current_mask.dtype)\n",
    "                current_mask = (current_mask * 256).astype(np.uint8)\n",
    "                io.imsave(submission_mask_path, current_mask, check_contrast=False)\n",
    "            current_mask = None\n",
    "        \n",
    "        if current_mask is None:\n",
    "            current_image_id = image_id\n",
    "            image_path = data_dir / image_id / \"images\" / (image_id + \".png\")\n",
    "            image = io.imread(image_path)\n",
    "            current_mask = np.zeros((*image.shape[:2], 3), dtype=np.float32)\n",
    "            color_gen = get_color_gen()\n",
    "            number_of_images += 1\n",
    "        \n",
    "        mask = from_run_kength_enc(run_length, image.shape[:2])\n",
    "        \n",
    "        current_mask[mask.astype(bool)] = np.array(color_gen.__next__())\n",
    "        if np.sum(current_mask > 1):\n",
    "            print(current_mask[mask.astype(bool)])\n",
    "        "
   ]
  },
  {
   "cell_type": "code",
   "execution_count": 6,
   "metadata": {},
   "outputs": [
    {
     "name": "stdout",
     "output_type": "stream",
     "text": [
      "number of no nuclei  264 out of 3019\n"
     ]
    }
   ],
   "source": [
    "print(\"number of no nuclei  {} out of {}\".format(number_of_no_nuclei, number_of_images) )"
   ]
  },
  {
   "cell_type": "code",
   "execution_count": 7,
   "metadata": {},
   "outputs": [
    {
     "name": "stdout",
     "output_type": "stream",
     "text": [
      "3.23\n"
     ]
    }
   ],
   "source": [
    "from time import time\n",
    "print(\"{:.3}\".format(3.233445))"
   ]
  },
  {
   "cell_type": "code",
   "execution_count": null,
   "metadata": {},
   "outputs": [],
   "source": []
  }
 ],
 "metadata": {
  "kernelspec": {
   "display_name": "Python 3",
   "language": "python",
   "name": "python3"
  },
  "language_info": {
   "codemirror_mode": {
    "name": "ipython",
    "version": 3
   },
   "file_extension": ".py",
   "mimetype": "text/x-python",
   "name": "python",
   "nbconvert_exporter": "python",
   "pygments_lexer": "ipython3",
   "version": "3.5.2"
  }
 },
 "nbformat": 4,
 "nbformat_minor": 2
}
